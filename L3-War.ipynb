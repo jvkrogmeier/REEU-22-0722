{
 "cells": [
  {
   "cell_type": "markdown",
   "metadata": {},
   "source": [
    "# Lecture 3 --- Just War!\n",
    "\n",
    "(Summer 2022)\n",
    "\n",
    "## Outline of topics for this segment:\n",
    "\n",
    "1. HW: Program up the game of war\n"
   ]
  },
  {
   "cell_type": "code",
   "execution_count": 1,
   "metadata": {},
   "outputs": [],
   "source": [
    "import math\n",
    "import numpy as np\n",
    "import matplotlib as mpl\n",
    "import matplotlib.pyplot as plt"
   ]
  },
  {
   "cell_type": "code",
   "execution_count": null,
   "metadata": {},
   "outputs": [],
   "source": []
  },
  {
   "cell_type": "code",
   "execution_count": null,
   "metadata": {},
   "outputs": [],
   "source": []
  },
  {
   "cell_type": "markdown",
   "metadata": {},
   "source": [
    "# War!\n",
    "\n",
    "<a href=\"https://bicyclecards.com/how-to-play/war/\" target=\"_blank\">The War Card Game</a>.\n",
    "\n",
    "Need a data structure to hold the state of a players cards ... \n",
    "\n",
    "Could number the cards from top to bottom (13 = A, 12 = K, 11 = Q, 10 = J, 9 = 10, 8 = 9, 7 = 8, 6 = 7, 5 = 6, 4 = 5, 3 = 4, 2 = 3, 1 = 2 ...\n",
    "\n",
    "There are four suites meaning each of the numbers above is repeated 4 times. All are equivalent.\n",
    "\n",
    "Need a routine to shuffle a list ...\n",
    "\n",
    "### Following are some code snippets I've explored for trying to build a war game .... It's not finished, by the way."
   ]
  },
  {
   "cell_type": "code",
   "execution_count": 42,
   "metadata": {},
   "outputs": [],
   "source": [
    "fulldeck = np.array([13, 13, 13, 13, 12, 12, 12, 12, 11, 11, 11, 11, 10, 10, 10, 10, 9, 9, 9, 9, 8, 8, 8, 8, 7, 7, 7, 7,\n",
    "           6, 6, 6, 6, 5, 5, 5, 5, 4, 4, 4, 4, 3, 3, 3, 3, 2, 2, 2, 2, 1, 1, 1, 1])"
   ]
  },
  {
   "cell_type": "code",
   "execution_count": 43,
   "metadata": {},
   "outputs": [
    {
     "data": {
      "text/plain": [
       "array([13, 13, 13, 13, 12, 12, 12, 12, 11, 11, 11, 11, 10, 10, 10, 10,  9,\n",
       "        9,  9,  9,  8,  8,  8,  8,  7,  7,  7,  7,  6,  6,  6,  6,  5,  5,\n",
       "        5,  5,  4,  4,  4,  4,  3,  3,  3,  3,  2,  2,  2,  2,  1,  1,  1,\n",
       "        1])"
      ]
     },
     "execution_count": 43,
     "metadata": {},
     "output_type": "execute_result"
    }
   ],
   "source": [
    "fulldeck"
   ]
  },
  {
   "cell_type": "code",
   "execution_count": 44,
   "metadata": {},
   "outputs": [
    {
     "name": "stdout",
     "output_type": "stream",
     "text": [
      "[ 2  8  2 11 11  7  1  1  3 13  5  5  6  4 12  1  6  9  5  4 12 10  8 13\n",
      "  6 11  9  9  3  7  9  7  8 13  4 12 13  1  2  7  5  3 11  4  2 12 10  8\n",
      " 10  6  3 10]\n"
     ]
    }
   ],
   "source": [
    "np.random.shuffle(fulldeck)\n",
    "print(fulldeck)"
   ]
  },
  {
   "cell_type": "code",
   "execution_count": 45,
   "metadata": {},
   "outputs": [],
   "source": [
    "player1 = fulldeck[0:52:2]\n",
    "player2 = fulldeck[1:52:2]"
   ]
  },
  {
   "cell_type": "code",
   "execution_count": 46,
   "metadata": {},
   "outputs": [
    {
     "name": "stdout",
     "output_type": "stream",
     "text": [
      "26\n",
      "[ 2  2 11  1  3  5  6 12  6  5 12  8  6  9  3  9  8  4 13  2  5 11  2 10\n",
      " 10  3]\n",
      "26\n",
      "[ 8 11  7  1 13  5  4  1  9  4 10 13 11  9  7  7 13 12  1  7  3  4 12  8\n",
      "  6 10]\n"
     ]
    }
   ],
   "source": [
    "print(len(player1))\n",
    "print(player1)\n",
    "print(len(player2))\n",
    "print(player2)"
   ]
  },
  {
   "cell_type": "code",
   "execution_count": 47,
   "metadata": {},
   "outputs": [],
   "source": [
    "# A function to decide how deep the \"wars\" will go. It returns\n",
    "# \"-1\" if there are not enough cards left in either player's hand\n",
    "# to resolve the wardepth\n",
    "\n",
    "def war(wardepth, player1, player2):\n",
    "    if 4*wardepth < np.minimum(len(player1),len(player2)):\n",
    "        if player1[4*wardepth] == player2[4*wardepth]:\n",
    "            wardepth += wardepth\n",
    "            wardepth = war(wardepth, player1, player2)\n",
    "    else:\n",
    "        wardepth = -1\n",
    "    return wardepth"
   ]
  },
  {
   "cell_type": "code",
   "execution_count": null,
   "metadata": {},
   "outputs": [],
   "source": []
  },
  {
   "cell_type": "code",
   "execution_count": null,
   "metadata": {},
   "outputs": [],
   "source": []
  },
  {
   "cell_type": "code",
   "execution_count": 153,
   "metadata": {},
   "outputs": [],
   "source": [
    "# Just some code I was using to play around ...\n",
    "\n",
    "wardepth = 0;\n",
    "if player1[0] > player2[0]:\n",
    "    player1 = np.roll(player1,-1)\n",
    "    player1 = np.append(player1, player2[0])\n",
    "    player2 = np.delete(player2, 0)\n",
    "elif player1[0] < player2[0]:\n",
    "    player2 = np.roll(player2,-1)\n",
    "    player2 = np.append(player2, player1[0])\n",
    "    player1 = np.delete(player1, 0)\n",
    "else:\n",
    "    wardepth = 1\n",
    "    wardepth = war(wardepth, player1, player2)\n",
    "    if wardepth == -1:\n",
    "        if len(player1) < len(player2):\n",
    "            player2 = np.append(player2, player1)\n",
    "            player1 = np.asarray([])\n",
    "        elif len(player1) > len(player2):\n",
    "            player1 = np.append(player1, player2)\n",
    "            player2 = np.asarray([])\n",
    "        else:\n",
    "            player1 = np.roll(player1,-1)\n",
    "            player2 = np.roll(player2,-1)\n",
    "    else:\n",
    "        if player1[wardepth] > player2[wardepth]:\n",
    "            player1 = np.roll(player1,-(4*wardepth+1))\n",
    "            player1 = np.append(player1, player2[0:(4*wardepth+1)])\n",
    "            player2 = np.delete(player2, range(4*wardepth+1))\n",
    "        else:\n",
    "            player2 = np.roll(player2,-(4*wardepth+1))\n",
    "            player2 = np.append(player2, player1[0:(4*wardepth+1)])\n",
    "            player1 = np.delete(player1, range(4*wardepth+1))            \n",
    "    "
   ]
  },
  {
   "cell_type": "code",
   "execution_count": 154,
   "metadata": {},
   "outputs": [
    {
     "name": "stdout",
     "output_type": "stream",
     "text": [
      "17\n",
      "[ 7 13 12  5  3 11 10  3 11  5 13 10  4  1  5  7  4]\n",
      "35\n",
      "[ 6 11  8  7  2  9  4  7  2 13  1  9  5  9  1  8  3  4  1 12 10 12  3  8\n",
      "  2  6 13  8 11  6  6  2 10  9 12]\n"
     ]
    }
   ],
   "source": [
    "print(len(player1))\n",
    "print(player1)\n",
    "print(len(player2))\n",
    "print(player2)"
   ]
  },
  {
   "cell_type": "code",
   "execution_count": null,
   "metadata": {},
   "outputs": [],
   "source": []
  },
  {
   "cell_type": "code",
   "execution_count": null,
   "metadata": {},
   "outputs": [],
   "source": []
  },
  {
   "cell_type": "code",
   "execution_count": null,
   "metadata": {},
   "outputs": [],
   "source": []
  },
  {
   "cell_type": "code",
   "execution_count": 162,
   "metadata": {},
   "outputs": [],
   "source": [
    "# Basic function to \"make a single move\"\n",
    "\n",
    "def War_make_a_move(player1, player2):\n",
    "    if player1[0] > player2[0]:\n",
    "        player1 = np.roll(player1,-1)\n",
    "        player1 = np.append(player1, player2[0])\n",
    "        player2 = np.delete(player2, 0)\n",
    "    elif player1[0] < player2[0]:\n",
    "        player2 = np.roll(player2,-1)\n",
    "        player2 = np.append(player2, player1[0])\n",
    "        player1 = np.delete(player1, 0)\n",
    "    else:\n",
    "        wardepth = 1\n",
    "        wardepth = war(wardepth, player1, player2)\n",
    "        if wardepth == -1:\n",
    "            if len(player1) < len(player2):\n",
    "                player2 = np.append(player2, player1)\n",
    "                player1 = np.asarray([])\n",
    "            elif len(player1) > len(player2):\n",
    "                player1 = np.append(player1, player2)\n",
    "                player2 = np.asarray([])\n",
    "            else:\n",
    "                player1 = np.roll(player1,-1)\n",
    "                player2 = np.roll(player2,-1)\n",
    "        else:\n",
    "            if player1[wardepth] > player2[wardepth]:\n",
    "                player1 = np.roll(player1,-(4*wardepth+1))\n",
    "                player1 = np.append(player1, player2[0:(4*wardepth+1)])\n",
    "                player2 = np.delete(player2, range(4*wardepth+1))\n",
    "            else:\n",
    "                player2 = np.roll(player2,-(4*wardepth+1))\n",
    "                player2 = np.append(player2, player1[0:(4*wardepth+1)])\n",
    "                player1 = np.delete(player1, range(4*wardepth+1))\n",
    "                \n",
    "    return player1, player2"
   ]
  },
  {
   "cell_type": "code",
   "execution_count": null,
   "metadata": {},
   "outputs": [],
   "source": []
  },
  {
   "cell_type": "code",
   "execution_count": 197,
   "metadata": {},
   "outputs": [
    {
     "name": "stdout",
     "output_type": "stream",
     "text": [
      "Player2 wins\n"
     ]
    },
    {
     "data": {
      "image/png": "[encoded data removed]",
      "text/plain": [
       "<Figure size 432x288 with 1 Axes>"
      ]
     },
     "metadata": {
      "needs_background": "light"
     },
     "output_type": "display_data"
    }
   ],
   "source": [
    "# A code to play a commplete game ...\n",
    "\n",
    "fulldeck = np.array([13, 13, 13, 13, 12, 12, 12, 12, 11, 11, 11, 11, 10, 10, 10, 10, 9, 9, 9, 9, 8, 8, 8, 8, 7, 7, 7, 7,\n",
    "           6, 6, 6, 6, 5, 5, 5, 5, 4, 4, 4, 4, 3, 3, 3, 3, 2, 2, 2, 2, 1, 1, 1, 1])\n",
    "np.random.shuffle(fulldeck)\n",
    "player1 = fulldeck[0:52:2]\n",
    "player2 = fulldeck[1:52:2]\n",
    "\n",
    "l1 = 26\n",
    "l2 = 26\n",
    "L1 = np.array([l1])\n",
    "L2 = np.array([l2])\n",
    "\n",
    "while l1 > 0 and l2 > 0:\n",
    "    player1, player2 = War_make_a_move(player1, player2)\n",
    "    l1 = len(player1)\n",
    "    l2 = len(player2)\n",
    "    L1 = np.append(L1,l1)\n",
    "    L2 = np.append(L2,l2)\n",
    "    \n",
    "if l1 == 0:\n",
    "    print('Player2 wins')\n",
    "else:\n",
    "    print('Player1 wins')\n",
    "\n",
    "fig3 = plt.figure()\n",
    "plt.style.use('seaborn-dark-palette')\n",
    "plt.plot(L1,'*')\n",
    "plt.plot(L2,'+')\n",
    "plt.grid()\n",
    "\n"
   ]
  },
  {
   "cell_type": "code",
   "execution_count": null,
   "metadata": {},
   "outputs": [],
   "source": []
  },
  {
   "cell_type": "code",
   "execution_count": null,
   "metadata": {},
   "outputs": [],
   "source": []
  },
  {
   "cell_type": "code",
   "execution_count": null,
   "metadata": {},
   "outputs": [],
   "source": []
  },
  {
   "cell_type": "code",
   "execution_count": null,
   "metadata": {},
   "outputs": [],
   "source": []
  },
  {
   "cell_type": "code",
   "execution_count": null,
   "metadata": {},
   "outputs": [],
   "source": []
  },
  {
   "cell_type": "markdown",
   "metadata": {},
   "source": [
    "### There's plenty of work remaining to figure out the game:\n",
    "\n",
    "* How to handle ties that make wars?\n",
    "* What to do as one player's card list gets short? Maybe they won't have enough cards to complete the war.\n",
    "* How to build the code to run many games to look at statistics for winning and losing?\n",
    "* How to answer a question such as: Given I'm down to only 10 cards, what are my odds of coming back and winning?"
   ]
  },
  {
   "cell_type": "code",
   "execution_count": null,
   "metadata": {},
   "outputs": [],
   "source": []
  }
 ],
 "metadata": {
  "kernelspec": {
   "display_name": "Python 3",
   "language": "python",
   "name": "python3"
  },
  "language_info": {
   "codemirror_mode": {
    "name": "ipython",
    "version": 3
   },
   "file_extension": ".py",
   "mimetype": "text/x-python",
   "name": "python",
   "nbconvert_exporter": "python",
   "pygments_lexer": "ipython3",
   "version": "3.8.8"
  }
 },
 "nbformat": 4,
 "nbformat_minor": 2
}
